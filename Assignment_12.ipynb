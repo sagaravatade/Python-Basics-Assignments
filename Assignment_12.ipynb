{
 "cells": [
  {
   "cell_type": "markdown",
   "id": "f477a30b",
   "metadata": {},
   "source": [
    "### 1. In what modes should the PdfFileReader() and PdfFileWriter() File objects will be opened?\n",
    "\n",
    "import PyPDF2"
   ]
  },
  {
   "cell_type": "markdown",
   "id": "7fb8b995",
   "metadata": {},
   "source": [
    "PdfFileReader() -- it is used in 'rb' mode i.e. read binary\n",
    "\n",
    "PdfFileWriter() -- it is used in 'wb' mode i.e. write binary"
   ]
  },
  {
   "cell_type": "markdown",
   "id": "d10bbaf8",
   "metadata": {},
   "source": [
    "###  2. From a PdfFileReader object, how do you get a Page object for page 5?\n",
    "use getpage(5) method.\n"
   ]
  },
  {
   "cell_type": "markdown",
   "id": "202ec644",
   "metadata": {},
   "source": [
    "### 3. What PdfFileReader variable stores the number of pages in the PDF document?\n",
    "numPages stores the total number of pages in a pdf"
   ]
  },
  {
   "cell_type": "markdown",
   "id": "c7e1fa0e",
   "metadata": {},
   "source": [
    "### 4. If a PdfFileReader object’s PDF is encrypted with the password swordfish, what must you do before you can obtain Page objects from it?"
   ]
  },
  {
   "cell_type": "markdown",
   "id": "0382a66f",
   "metadata": {},
   "source": [
    "step 1 - load pdf [ PyPDF2.PdfFileReader(open('encrypted.pdf', 'rb')) ]\n",
    "\n",
    "step 2 - check weather it is encrypted [ pdf.isEncrypted ]\n",
    "\n",
    "step 3 - if encrypted use [ pdf.decrypt('swordfish') ]"
   ]
  },
  {
   "cell_type": "markdown",
   "id": "674798a1",
   "metadata": {},
   "source": [
    "### 5. What methods do you use to rotate a page?\n",
    "For anticlockwise: rotateCounterClockwise() \n",
    "\n",
    "for clockwise    : rotateClockwise()"
   ]
  },
  {
   "cell_type": "markdown",
   "id": "e6f7e74f",
   "metadata": {},
   "source": [
    "### 6. What is the difference between a Run object and a Paragraph object?\n",
    "Word document contain formatted text wrapped within three object levels:\n",
    "    lowest level: run objects.\n",
    "    middle level: paragraph objects.\n",
    "    highest level: document object.\n",
    "\n",
    "Run Object is used for inline content, text, pictures and other items within a paragraph"
   ]
  },
  {
   "cell_type": "markdown",
   "id": "15772c45",
   "metadata": {},
   "source": [
    "### 7. How do you obtain a list of Paragraph objects for a Document object that’s stored in a variable named doc?"
   ]
  },
  {
   "cell_type": "code",
   "execution_count": 7,
   "id": "05ba1898",
   "metadata": {},
   "outputs": [],
   "source": [
    "pip install python-docx"
   ]
  },
  {
   "cell_type": "code",
   "execution_count": 9,
   "id": "ff62e670",
   "metadata": {},
   "outputs": [],
   "source": [
    "import docx"
   ]
  },
  {
   "cell_type": "code",
   "execution_count": null,
   "id": "739356c7",
   "metadata": {},
   "outputs": [],
   "source": [
    "d = docx.Document('trial.docx')\n",
    "len(d.paragraphs)"
   ]
  },
  {
   "cell_type": "markdown",
   "id": "0a27ab3a",
   "metadata": {},
   "source": [
    "### 8. What type of object has bold, underline, italic, strike, and outline variables?\n",
    "Run object\n"
   ]
  },
  {
   "cell_type": "markdown",
   "id": "c6a836e4",
   "metadata": {},
   "source": [
    "### 9. What is the difference between False, True, and None for the bold variable?\n",
    "\n",
    "False = off\n",
    "\n",
    "True = on\n",
    "\n",
    "none = not available"
   ]
  },
  {
   "cell_type": "markdown",
   "id": "20ac9df8",
   "metadata": {},
   "source": [
    "### 10. How do you create a Document object for a new Word document?\n",
    "doc = docx.Document()\n",
    "\n",
    "doc.add_paragraph('world')\n",
    "\n",
    "doc.save('hello.docx')\n"
   ]
  },
  {
   "cell_type": "markdown",
   "id": "763c0e9d",
   "metadata": {},
   "source": [
    "### 11. How do you add a paragraph with the text 'Hello, there!' to a Document object stored in a variable named doc?\n",
    "doc = docx.Document()\n",
    "\n",
    "doc.add_paragraph('Hello,there!')\n",
    "\n",
    "doc.save('hellothere.docx')\n"
   ]
  },
  {
   "cell_type": "markdown",
   "id": "310f10d4",
   "metadata": {},
   "source": [
    "### 12. What integers represent the levels of headings available in Word documents?\n",
    "integers 1 to 4 are for various heading levels where 1 is main heading and 4 the lowest subheading."
   ]
  },
  {
   "cell_type": "code",
   "execution_count": null,
   "id": "86a5ebc6",
   "metadata": {},
   "outputs": [],
   "source": []
  }
 ],
 "metadata": {
  "kernelspec": {
   "display_name": "Python 3 (ipykernel)",
   "language": "python",
   "name": "python3"
  },
  "language_info": {
   "codemirror_mode": {
    "name": "ipython",
    "version": 3
   },
   "file_extension": ".py",
   "mimetype": "text/x-python",
   "name": "python",
   "nbconvert_exporter": "python",
   "pygments_lexer": "ipython3",
   "version": "3.9.7"
  }
 },
 "nbformat": 4,
 "nbformat_minor": 5
}
