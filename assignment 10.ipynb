{
 "cells": [
  {
   "cell_type": "markdown",
   "id": "a622d9a2",
   "metadata": {},
   "source": [
    "## 1. How do you distinguish between shutil.copy() and shutil.copytree()?\n",
    " shutil.copytree() will copy entire folder like branchers of trees\n",
    " \n",
    " whereas shutil.copy() will copy only single folder\n"
   ]
  },
  {
   "cell_type": "markdown",
   "id": "f3c871ce",
   "metadata": {},
   "source": [
    "## 2. What function is used to rename files??\n",
    "\n",
    "First import os module then use os.rename() to rename a file."
   ]
  },
  {
   "cell_type": "markdown",
   "id": "14def021",
   "metadata": {},
   "source": [
    "## 3. What is the difference between the delete functions in the send2trash and shutil modules?\n",
    "\n",
    "send2trash sends file to recycle bin \n",
    "\n",
    "\n",
    "shutil module deletes file permanantly."
   ]
  },
  {
   "cell_type": "markdown",
   "id": "ff7b4a28",
   "metadata": {},
   "source": [
    "## 4.ZipFile objects have a close() method just like File objects’ close() method.what ZipFile method is equivalent to File objects’ open() method?\n",
    "to open or write to a zipfile we use 'w' as second argument similar to file objects open()"
   ]
  },
  {
   "cell_type": "code",
   "execution_count": 3,
   "id": "5e1d01e8",
   "metadata": {},
   "outputs": [],
   "source": [
    "import zipfile as zf\n",
    "a = zf.ZipFile(\"abc.zip\",'w')\n",
    "a.close()"
   ]
  },
  {
   "cell_type": "markdown",
   "id": "ff3bb346",
   "metadata": {},
   "source": [
    "## 5. Create a programme that searches a folder tree for files with a certain file extension (such as .pdf or .jpg). Copy these files from whatever location they are in to a new folder.\n",
    "\n",
    "import os\n",
    "\n",
    "import shutil"
   ]
  },
  {
   "cell_type": "code",
   "execution_count": 4,
   "id": "3788f528",
   "metadata": {},
   "outputs": [
    {
     "name": "stdout",
     "output_type": "stream",
     "text": [
      "searching --> C:\\Users\\user\\randomfolder for ['.pdf', '.jpg'] file\n"
     ]
    }
   ],
   "source": [
    "import os, shutil\n",
    "\n",
    "def search_and_copy(folder, extensions, destFolder):\n",
    "    folder = os.path.abspath(folder)\n",
    "    destFolder = os.path.abspath(destFolder)\n",
    "    print('searching --> {} for {} file'.format(folder,extensions))\n",
    "    for foldername, subfolders, filenames in os.walk(folder):\n",
    "        for filename in filenames:\n",
    "            name, extension = os.path.splitext(filename)\n",
    "            if extension in extensions:\n",
    "                fileAbsPath = foldername + os.path.sep + filename\n",
    "                print('Coping', fileAbsPath, 'to', destFolder)\n",
    "                shutil.copy(fileAbsPath, destFolder)\n",
    "\n",
    "extensions = ['.pdf','.jpg']\n",
    "folder = 'randomfolder'\n",
    "destFolder = 'destination'\n",
    "search_and_copy(folder, extensions, destFolder)"
   ]
  },
  {
   "cell_type": "code",
   "execution_count": null,
   "id": "30b942e8",
   "metadata": {},
   "outputs": [],
   "source": []
  }
 ],
 "metadata": {
  "kernelspec": {
   "display_name": "Python 3 (ipykernel)",
   "language": "python",
   "name": "python3"
  },
  "language_info": {
   "codemirror_mode": {
    "name": "ipython",
    "version": 3
   },
   "file_extension": ".py",
   "mimetype": "text/x-python",
   "name": "python",
   "nbconvert_exporter": "python",
   "pygments_lexer": "ipython3",
   "version": "3.9.7"
  }
 },
 "nbformat": 4,
 "nbformat_minor": 5
}
